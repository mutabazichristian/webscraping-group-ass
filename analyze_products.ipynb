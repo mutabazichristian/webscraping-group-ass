{
 "cells": [
  {
   "cell_type": "code",
   "execution_count": 16,
   "metadata": {},
   "outputs": [
    {
     "name": "stdout",
     "output_type": "stream",
     "text": [
      "                                        Product Name     Price  \\\n",
      "0                  AQUAFRESH TOOTHPASTE HERBAL 100ML    3450.0   \n",
      "1                                    LES PALAIS 75CL   24725.0   \n",
      "2     Nike Black Sports Shorts with Large White Logo   25000.0   \n",
      "3                TROP HEAT POTATO CRISPS SALTED 200G    2300.0   \n",
      "4  Bose – Sport Earbuds True Wireless In-Ear Earbuds  410000.0   \n",
      "\n",
      "                                                                            Product Link  \n",
      "0                https://app.isokko.com/shop-item/1460/aquafresh-toothpaste-herbal-100ml  \n",
      "1                                   https://app.isokko.com/shop-item/852/les-palais-75cl  \n",
      "2   https://app.isokko.com/shop-item/4282/nike-black-sports-shorts-with-large-white-logo  \n",
      "3              https://app.isokko.com/shop-item/1534/trop-heat-potato-crisps-salted-200g  \n",
      "4  https://app.isokko.com/shop-item/4084/bose-sport-earbuds-true-wireless-in-ear-earbuds  \n"
     ]
    }
   ],
   "source": [
    "import pandas as pd\n",
    "import matplotlib.pyplot as plt\n",
    "import seaborn as sns\n",
    "\n",
    "# Load the data\n",
    "df = pd.read_csv(\"scraped_products.csv\")\n",
    "\n",
    "# Convert 'Price' to numeric \n",
    "df['Price'] = pd.to_numeric(df['Price'].str.replace(r'[^\\d.]', '', regex=True), errors='coerce')\n",
    "\n",
    "# Drop rows where Price could not be converted\n",
    "df = df.dropna(subset=['Price'])\n",
    "\n",
    "print(df.head(5))  \n"
   ]
  }
 ],
 "metadata": {
  "kernelspec": {
   "display_name": "env",
   "language": "python",
   "name": "python3"
  },
  "language_info": {
   "codemirror_mode": {
    "name": "ipython",
    "version": 3
   },
   "file_extension": ".py",
   "mimetype": "text/x-python",
   "name": "python",
   "nbconvert_exporter": "python",
   "pygments_lexer": "ipython3",
   "version": "3.11.9"
  }
 },
 "nbformat": 4,
 "nbformat_minor": 2
}
